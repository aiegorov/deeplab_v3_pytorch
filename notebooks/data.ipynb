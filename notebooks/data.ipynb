{
 "cells": [
  {
   "cell_type": "markdown",
   "id": "e59e115c-9415-423f-9228-ff971d02b6ae",
   "metadata": {},
   "source": [
    "## Exploring PascalVOC dataset"
   ]
  },
  {
   "cell_type": "code",
   "execution_count": 4,
   "id": "fcd14fb8-64ea-40b3-9988-a4c5708d9428",
   "metadata": {},
   "outputs": [],
   "source": [
    "import torchvision\n",
    "from torchvision import datasets"
   ]
  },
  {
   "cell_type": "code",
   "execution_count": 6,
   "id": "826e5ab4-76a3-4a25-8297-b935ce7d932a",
   "metadata": {
    "editable": true,
    "slideshow": {
     "slide_type": ""
    },
    "tags": []
   },
   "outputs": [
    {
     "name": "stderr",
     "output_type": "stream",
     "text": [
      "0.0%"
     ]
    },
    {
     "name": "stdout",
     "output_type": "stream",
     "text": [
      "Downloading http://host.robots.ox.ac.uk/pascal/VOC/voc2012/VOCtrainval_11-May-2012.tar to /home/andrii/data/voc/VOCtrainval_11-May-2012.tar\n"
     ]
    },
    {
     "name": "stderr",
     "output_type": "stream",
     "text": [
      "100.0%\n"
     ]
    },
    {
     "name": "stdout",
     "output_type": "stream",
     "text": [
      "Extracting /home/andrii/data/voc/VOCtrainval_11-May-2012.tar to /home/andrii/data/voc\n"
     ]
    }
   ],
   "source": [
    "voc_segmantation = datasets.VOCSegmentation(root=\"/home/andrii/data/voc\", year=\"2012\", image_set=\"trainval\", download=True)"
   ]
  },
  {
   "cell_type": "code",
   "execution_count": 7,
   "id": "e2e9f0c9-a998-4dbc-89d1-e047aa912fdb",
   "metadata": {},
   "outputs": [
    {
     "data": {
      "text/plain": [
       "Dataset VOCSegmentation\n",
       "    Number of datapoints: 2913\n",
       "    Root location: /home/andrii/data/voc"
      ]
     },
     "execution_count": 7,
     "metadata": {},
     "output_type": "execute_result"
    }
   ],
   "source": [
    "voc_segmantation"
   ]
  },
  {
   "cell_type": "code",
   "execution_count": null,
   "id": "c9d1f4df-836a-43e6-acfe-8812d4cc776e",
   "metadata": {},
   "outputs": [],
   "source": []
  }
 ],
 "metadata": {
  "kernelspec": {
   "display_name": "Python 3 (ipykernel)",
   "language": "python",
   "name": "python3"
  },
  "language_info": {
   "codemirror_mode": {
    "name": "ipython",
    "version": 3
   },
   "file_extension": ".py",
   "mimetype": "text/x-python",
   "name": "python",
   "nbconvert_exporter": "python",
   "pygments_lexer": "ipython3",
   "version": "3.10.12"
  }
 },
 "nbformat": 4,
 "nbformat_minor": 5
}
